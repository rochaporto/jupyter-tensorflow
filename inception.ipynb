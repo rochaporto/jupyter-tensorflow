{
 "cells": [
  {
   "cell_type": "markdown",
   "metadata": {},
   "source": [
    "# Is it a cat? Or a plane?"
   ]
  },
  {
   "cell_type": "code",
   "execution_count": 16,
   "metadata": {
    "collapsed": false,
    "slideshow": {
     "slide_type": "skip"
    }
   },
   "outputs": [
    {
     "data": {
      "text/plain": [
       "('/tmp/image.jpg', <httplib.HTTPMessage instance at 0x7f02d03cc200>)"
      ]
     },
     "execution_count": 16,
     "metadata": {},
     "output_type": "execute_result"
    }
   ],
   "source": [
    "# pass an image available via http and store it locally\n",
    "import urllib\n",
    "\n",
    "# replace this with an image of your choice :)\n",
    "image_url = \"https://upload.wikimedia.org/wikipedia/commons/6/60/Equus_quagga.jpg\"\n",
    "\n",
    "\n",
    "urllib.urlretrieve(image_url, \"/tmp/image.jpg\")\n"
   ]
  },
  {
   "cell_type": "code",
   "execution_count": 17,
   "metadata": {
    "collapsed": false
   },
   "outputs": [
    {
     "name": "stdout",
     "output_type": "stream",
     "text": [
     ]
    }
   ],
   "source": [
    "import numpy\n",
    "import os\n",
    "import sys\n",
    "import tensorflow as tf\n",
    "import threading\n",
    "\n",
    "from grpc.beta import implementations\n",
    "from tensorflow_serving.example import inception_inference_pb2\n",
    "\n",
    "# server:port of the tensorflow inception-service (you shouldn't have to touch this)\n",
    "server = \"137.138.6.52:31435\"\n",
    "\n",
    "# some output config params (you shouldn't need to touch these either)\n",
    "NUM_CLASSES = 5\n",
    "WORKING_DIR = \"/usr/lib/python2.7/dist-packages/tensorflow_serving/example\"\n",
    "SYNSET_FILE = os.path.join(WORKING_DIR, 'imagenet_lsvrc_2015_synsets.txt')\n",
    "METADATA_FILE = os.path.join(WORKING_DIR, 'imagenet_metadata.txt')\n",
    "\n",
    "# tensorflow call\n",
    "host, port = server.split(\":\")\n",
    "channel = implementations.insecure_channel(host, int(port))\n",
    "stub = inception_inference_pb2.beta_create_InceptionService_stub(channel)\n",
    "synsets = []\n",
    "with open(SYNSET_FILE) as f:\n",
    "  synsets = f.read().splitlines()\n",
    "\n",
    "texts = {}\n",
    "with open(METADATA_FILE) as f:\n",
    "  for line in f.read().splitlines():\n",
    "    parts = line.split('\\t')\n",
    "    assert len(parts) == 2\n",
    "    texts[parts[0]] = parts[1]\n",
    "\n",
    "with open(\"/tmp/image.jpg\", 'rb') as f:\n",
    "  data = f.read()\n",
    "  request = inception_inference_pb2.InceptionRequest()\n",
    "  request.jpeg_encoded = data  \n",
    "  result = stub.Classify(request, 10.0)  # 10 secs timeout\n",
    "  for i in range(NUM_CLASSES):\n",
    "    index = result.classes[i]\n",
    "    score = result.scores[i]\n",
    "    print '%f : %s' % (score, texts[synsets[index - 1]])\n"
   ]
  },
  {
   "cell_type": "code",
   "execution_count": null,
   "metadata": {
    "collapsed": true
   },
   "outputs": [],
   "source": []
  }
 ],
 "metadata": {
  "kernelspec": {
   "display_name": "Python 2",
   "language": "python",
   "name": "python2"
  },
  "language_info": {
   "codemirror_mode": {
    "name": "ipython",
    "version": 2
   },
   "file_extension": ".py",
   "mimetype": "text/x-python",
   "name": "python",
   "nbconvert_exporter": "python",
   "pygments_lexer": "ipython2",
   "version": "2.7.6"
  }
 },
 "nbformat": 4,
 "nbformat_minor": 0
}
