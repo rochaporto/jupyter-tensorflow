{
 "cells": [
  {
   "cell_type": "markdown",
   "metadata": {},
   "source": [
    "# Measuring the J/psi mass"
   ]
  },
  {
   "cell_type": "code",
   "execution_count": 1,
   "metadata": {
    "collapsed": false,
    "slideshow": {
     "slide_type": "skip"
    }
   },
   "outputs": [
    {
     "name": "stderr",
     "output_type": "stream",
     "text": [
      "INFO:rootpy.plotting.style:using ROOT style 'ATLAS'\n"
     ]
    }
   ],
   "source": [
    "# Required imports and setup\n",
    "import os\n",
    "import numpy as np\n",
    "from rootpy.plotting import Hist, Canvas, set_style, get_style\n",
    "from rootpy import asrootpy, log\n",
    "from root_numpy import root2array, fill_hist\n",
    "from ROOT import (RooFit, RooRealVar, RooDataHist, RooArgList,\n",
    "                  RooVoigtian, RooAddPdf, RooPolynomial, TLatex)\n",
    "style = get_style('ATLAS')\n",
    "style.SetCanvasDefW(900)\n",
    "style.SetCanvasDefH(600)\n",
    "set_style('ATLAS')\n",
    "log['/ROOT.TClassTable.Add'].setLevel(log.ERROR)"
   ]
  },
  "metadata": {
   "kernelspec": {
    "display_name": "Python 2",
    "language": "python",
    "name": "python2"
   },
   "language_info": {
    "codemirror_mode": {
     "name": "ipython",
     "version": 2
    },
    "file_extension": ".py",
    "mimetype": "text/x-python",
    "name": "python",
    "nbconvert_exporter": "python",
    "pygments_lexer": "ipython2",
    "version": "2.7.9"
   }
 },
 "nbformat": 4,
 "nbformat_minor": 0
}
